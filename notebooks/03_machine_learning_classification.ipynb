{
 "cells": [
  {
   "cell_type": "code",
   "execution_count": null,
   "id": "cc3dfe83",
   "metadata": {},
   "outputs": [],
   "source": [
    "import pandas as pd\n",
    "import numpy as np\n",
    "import matplotlib.pyplot as plt\n",
    "import seaborn as sns\n",
    "import sys\n",
    "import os\n",
    "\n",
    "from sklearn.model_selection import train_test_split\n",
    "from sklearn.preprocessing import StandardScaler\n",
    "from sklearn.svm import SVC\n",
    "from sklearn.neighbors import KNeighborsClassifier\n",
    "from sklearn.tree import DecisionTreeClassifier\n",
    "from sklearn.metrics import accuracy_score, confusion_matrix\n",
    "\n",
    "# Add the src directory to the Python path\n",
    "sys.path.append(os.path.abspath(os.path.join('..')))"
   ]
  },
  {
   "cell_type": "code",
   "execution_count": null,
   "id": "54945822",
   "metadata": {},
   "outputs": [
    {
     "name": "stdout",
     "output_type": "stream",
     "text": [
      "Dataset loaded and prepared:\n",
      "Number of samples: 145\n",
      "Class distribution:\n",
      "label\n",
      "0    113\n",
      "1     32\n",
      "Name: count, dtype: int64\n"
     ]
    },
    {
     "data": {
      "text/html": [
       "<div>\n",
       "<style scoped>\n",
       "    .dataframe tbody tr th:only-of-type {\n",
       "        vertical-align: middle;\n",
       "    }\n",
       "\n",
       "    .dataframe tbody tr th {\n",
       "        vertical-align: top;\n",
       "    }\n",
       "\n",
       "    .dataframe thead th {\n",
       "        text-align: right;\n",
       "    }\n",
       "</style>\n",
       "<table border=\"1\" class=\"dataframe\">\n",
       "  <thead>\n",
       "    <tr style=\"text-align: right;\">\n",
       "      <th></th>\n",
       "      <th>scr_count</th>\n",
       "      <th>mean_scr_amplitude</th>\n",
       "      <th>gsr_mean</th>\n",
       "      <th>gsr_std</th>\n",
       "      <th>gsr_range</th>\n",
       "      <th>mean_hr</th>\n",
       "      <th>rmssd</th>\n",
       "      <th>sdnn</th>\n",
       "      <th>pnn50</th>\n",
       "    </tr>\n",
       "  </thead>\n",
       "  <tbody>\n",
       "    <tr>\n",
       "      <th>0</th>\n",
       "      <td>5</td>\n",
       "      <td>0.043601</td>\n",
       "      <td>0.397778</td>\n",
       "      <td>0.037204</td>\n",
       "      <td>0.224417</td>\n",
       "      <td>74.818325</td>\n",
       "      <td>306.824533</td>\n",
       "      <td>240.572730</td>\n",
       "      <td>57.534247</td>\n",
       "    </tr>\n",
       "    <tr>\n",
       "      <th>1</th>\n",
       "      <td>3</td>\n",
       "      <td>0.025483</td>\n",
       "      <td>0.395624</td>\n",
       "      <td>0.035254</td>\n",
       "      <td>0.224417</td>\n",
       "      <td>77.362637</td>\n",
       "      <td>294.686576</td>\n",
       "      <td>234.772513</td>\n",
       "      <td>50.000000</td>\n",
       "    </tr>\n",
       "    <tr>\n",
       "      <th>2</th>\n",
       "      <td>0</td>\n",
       "      <td>0.000000</td>\n",
       "      <td>0.394509</td>\n",
       "      <td>0.034478</td>\n",
       "      <td>0.219094</td>\n",
       "      <td>80.799579</td>\n",
       "      <td>251.914888</td>\n",
       "      <td>213.196455</td>\n",
       "      <td>35.443038</td>\n",
       "    </tr>\n",
       "    <tr>\n",
       "      <th>3</th>\n",
       "      <td>0</td>\n",
       "      <td>0.000000</td>\n",
       "      <td>0.380959</td>\n",
       "      <td>0.008688</td>\n",
       "      <td>0.044596</td>\n",
       "      <td>84.006326</td>\n",
       "      <td>198.304071</td>\n",
       "      <td>192.294531</td>\n",
       "      <td>28.048780</td>\n",
       "    </tr>\n",
       "    <tr>\n",
       "      <th>4</th>\n",
       "      <td>0</td>\n",
       "      <td>0.000000</td>\n",
       "      <td>0.378745</td>\n",
       "      <td>0.002554</td>\n",
       "      <td>0.014800</td>\n",
       "      <td>86.450262</td>\n",
       "      <td>168.201041</td>\n",
       "      <td>161.388352</td>\n",
       "      <td>24.705882</td>\n",
       "    </tr>\n",
       "  </tbody>\n",
       "</table>\n",
       "</div>"
      ],
      "text/plain": [
       "   scr_count  mean_scr_amplitude  gsr_mean   gsr_std  gsr_range    mean_hr  \\\n",
       "0          5            0.043601  0.397778  0.037204   0.224417  74.818325   \n",
       "1          3            0.025483  0.395624  0.035254   0.224417  77.362637   \n",
       "2          0            0.000000  0.394509  0.034478   0.219094  80.799579   \n",
       "3          0            0.000000  0.380959  0.008688   0.044596  84.006326   \n",
       "4          0            0.000000  0.378745  0.002554   0.014800  86.450262   \n",
       "\n",
       "        rmssd        sdnn      pnn50  \n",
       "0  306.824533  240.572730  57.534247  \n",
       "1  294.686576  234.772513  50.000000  \n",
       "2  251.914888  213.196455  35.443038  \n",
       "3  198.304071  192.294531  28.048780  \n",
       "4  168.201041  161.388352  24.705882  "
      ]
     },
     "metadata": {},
     "output_type": "display_data"
    }
   ],
   "source": [
    "# --- Load the Master Dataset ---\n",
    "DATA_PATH = '../data/processed/features_master_dataset.csv'\n",
    "df = pd.read_csv(DATA_PATH)\n",
    "\n",
    "# --- Prepare Data for ML ---\n",
    "# 1. Encode labels: Convert 'calm' and 'stress' to 0 and 1\n",
    "df['label'] = df['label'].map({'calm': 0, 'stress': 1})\n",
    "\n",
    "# 2. Define features (X) and target (y)\n",
    "# We drop 'subject' as it's an identifier, not a feature for the model to learn\n",
    "X = df.drop(['label', 'subject'], axis=1)\n",
    "y = df['label']\n",
    "\n",
    "print(\"Master dataset loaded and prepared:\")\n",
    "print(f\"Total number of samples: {len(df)}\")\n",
    "print(f\"Class distribution:\\n{df['label'].value_counts(normalize=True)}\")\n",
    "display(X.head())"
   ]
  },
  {
   "cell_type": "code",
   "execution_count": null,
   "id": "1ea18cbf",
   "metadata": {},
   "outputs": [
    {
     "name": "stdout",
     "output_type": "stream",
     "text": [
      "Training set shape: (116, 9)\n",
      "Testing set shape: (29, 9)\n"
     ]
    }
   ],
   "source": [
    "# Split the data: 80% for training, 20% for testing\n",
    "# stratify=y ensures both sets have a balanced representation of 'calm' and 'stress' samples\n",
    "X_train, X_test, y_train, y_test = train_test_split(\n",
    "    X, y, test_size=0.2, random_state=42, stratify=y\n",
    ")\n",
    "\n",
    "print(f\"Training set shape: {X_train.shape}\")\n",
    "print(f\"Testing set shape: {X_test.shape}\")"
   ]
  },
  {
   "cell_type": "code",
   "execution_count": null,
   "id": "41a7fd01",
   "metadata": {},
   "outputs": [],
   "source": [
    "# Initialize the StandardScaler\n",
    "scaler = StandardScaler()\n",
    "\n",
    "# Fit the scaler ONLY on the training data to prevent information leakage\n",
    "X_train_scaled = scaler.fit_transform(X_train)\n",
    "\n",
    "# Transform the test data using the fitted scaler\n",
    "X_test_scaled = scaler.transform(X_test)"
   ]
  }
 ],
 "metadata": {
  "kernelspec": {
   "display_name": "venv",
   "language": "python",
   "name": "python3"
  },
  "language_info": {
   "codemirror_mode": {
    "name": "ipython",
    "version": 3
   },
   "file_extension": ".py",
   "mimetype": "text/x-python",
   "name": "python",
   "nbconvert_exporter": "python",
   "pygments_lexer": "ipython3",
   "version": "3.13.5"
  }
 },
 "nbformat": 4,
 "nbformat_minor": 5
}
